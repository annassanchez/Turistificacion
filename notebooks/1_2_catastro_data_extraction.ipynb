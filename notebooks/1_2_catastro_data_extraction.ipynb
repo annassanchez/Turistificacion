{
 "cells": [
  {
   "cell_type": "code",
   "execution_count": null,
   "metadata": {},
   "outputs": [],
   "source": [
    "import pandas as pd\n",
    "import requests\n",
    "import xmltodict\n",
    "import json\n",
    "pd.set_option('display.max_columns', None)\n",
    "import cidownloader"
   ]
  },
  {
   "cell_type": "markdown",
   "metadata": {},
   "source": [
    "# catastro"
   ]
  },
  {
   "cell_type": "code",
   "execution_count": null,
   "metadata": {},
   "outputs": [
    {
     "name": "stdout",
     "output_type": "stream",
     "text": [
      "Usage: cidownloader [OPTIONS]\n",
      "\n",
      "  Catastro Inspire Downloader.\n",
      "\n",
      "  Utilidad que permite descargar cartografía del servicio inspire de la\n",
      "  Dirección General de Catastro.\n",
      "\n",
      "  Genera un fichero GeoPackage.\n",
      "\n",
      "Options:\n",
      "  -p, --provincia INTEGER         Código Gerencia Catastro. Si no se indica\n",
      "                                  descarga todas las provincias.\n",
      "  -m, --municipio INTEGER         Código Municipio Catastro. Si no se indica\n",
      "                                  descarga todos los municipios.\n",
      "  --srs INTEGER                   Código EPSG final. Si no se indica, se\n",
      "                                  mantendrá el de origen.\n",
      "  --tipo [all|parcels|buildings|addresses]\n",
      "                                  Tipo Cartografía a descargar.\n",
      "  --filename TEXT                 Nombre Geopackage\n",
      "  -s, --separar_salida            Separar salida a un GeoPackage por Provincia\n",
      "  --version                       Show the version and exit.\n",
      "  --help                          Show this message and exit.\n"
     ]
    }
   ],
   "source": [
    "!cidownloader --help"
   ]
  },
  {
   "cell_type": "code",
   "execution_count": null,
   "metadata": {},
   "outputs": [
    {
     "name": "stdout",
     "output_type": "stream",
     "text": [
      "Comenzando descarga de parcels:\n",
      "Territorial office 28 Madrid\n",
      "[1/1][1/1] Downloading http://www.catastro.minhap.es/INSPIRE/CadastralParcels/28/28900-MADRID/A.ES.SDGC.CP.28900.zip\n",
      "Comenzando descarga de buildings:\n",
      "Territorial office 28 Madrid\n",
      "[1/1][1/1] Downloading http://www.catastro.minhap.es/INSPIRE/Buildings/28/28900-MADRID/A.ES.SDGC.BU.28900.zip\n",
      "Comenzando descarga de addresses:\n",
      "Territorial office 28 Madrid\n",
      "[1/1][1/1] Downloading http://www.catastro.minhap.es/INSPIRE/Addresses/28/28900-MADRID/A.ES.SDGC.AD.28900.zip\n"
     ]
    }
   ],
   "source": [
    "!cidownloader -p 28 -m 900 --srs 25829 --tipo all --filename catastro_madrid"
   ]
  },
  {
   "attachments": {},
   "cell_type": "markdown",
   "metadata": {},
   "source": [
    "# turn into geodataframe -> further calculations"
   ]
  }
 ],
 "metadata": {
  "language_info": {
   "name": "python"
  },
  "orig_nbformat": 4
 },
 "nbformat": 4,
 "nbformat_minor": 2
}
