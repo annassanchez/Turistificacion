{
 "cells": [
  {
   "cell_type": "code",
   "execution_count": 2,
   "metadata": {},
   "outputs": [],
   "source": [
    "import pickle\n",
    "import pandas as pd\n",
    "import folium\n",
    "from tqdm import tqdm\n",
    "import os\n",
    "import warnings\n",
    "warnings.filterwarnings(\"ignore\")\n",
    "import re\n",
    "import seaborn as sns\n",
    "import numpy as np\n",
    "pd.options.display.max_columns = None\n",
    "pd.options.mode.chained_assignment = None  # default='warn'\n",
    "from IPython.display import clear_output\n",
    "import geopandas as gpd\n",
    "from functools import partial\n",
    "\n",
    "import sys\n",
    "sys.path.append(\"../\")\n",
    "import src.supportClean as sc\n",
    "\n",
    "import sys\n",
    "sys.path.append(\"../\")\n",
    "import src.bibliotheque as bb"
   ]
  },
  {
   "cell_type": "code",
   "execution_count": 3,
   "metadata": {},
   "outputs": [],
   "source": [
    "from geopy import Nominatim\n",
    "locator = Nominatim(user_agent=\"myGeocoder\")"
   ]
  },
  {
   "attachments": {},
   "cell_type": "markdown",
   "metadata": {},
   "source": [
    "# data input"
   ]
  },
  {
   "cell_type": "code",
   "execution_count": 4,
   "metadata": {},
   "outputs": [
    {
     "name": "stdout",
     "output_type": "stream",
     "text": [
      "(10587, 5)\n"
     ]
    },
    {
     "data": {
      "text/html": [
       "<div>\n",
       "<style scoped>\n",
       "    .dataframe tbody tr th:only-of-type {\n",
       "        vertical-align: middle;\n",
       "    }\n",
       "\n",
       "    .dataframe tbody tr th {\n",
       "        vertical-align: top;\n",
       "    }\n",
       "\n",
       "    .dataframe thead th {\n",
       "        text-align: right;\n",
       "    }\n",
       "</style>\n",
       "<table border=\"1\" class=\"dataframe\">\n",
       "  <thead>\n",
       "    <tr style=\"text-align: right;\">\n",
       "      <th></th>\n",
       "      <th>name_raw</th>\n",
       "      <th>price_raw</th>\n",
       "      <th>reviews</th>\n",
       "      <th>rating_raw</th>\n",
       "      <th>url</th>\n",
       "    </tr>\n",
       "  </thead>\n",
       "  <tbody>\n",
       "    <tr>\n",
       "      <th>0</th>\n",
       "      <td>&lt;a href=\"/Restaurant_Review-g187514-d2006562-R...</td>\n",
       "      <td>[Cerrado ahora, Española, Internacional, €€ - ...</td>\n",
       "      <td>&lt;span class=\"IiChw\"&gt;10.747&lt;!-- --&gt; opiniones&lt;/...</td>\n",
       "      <td>&lt;span class=\"GmcgY\"&gt;&lt;svg class=\"UctUV d H0\" vi...</td>\n",
       "      <td>/Restaurant_Review-g187514-d2006562-Reviews-Lo...</td>\n",
       "    </tr>\n",
       "    <tr>\n",
       "      <th>1</th>\n",
       "      <td>&lt;a href=\"/Restaurant_Review-g187514-d23446200-...</td>\n",
       "      <td>[Cerrado ahora, Argentina, Sudamericana]</td>\n",
       "      <td>&lt;span class=\"IiChw\"&gt;158&lt;!-- --&gt; opiniones&lt;/span&gt;</td>\n",
       "      <td>&lt;span class=\"GmcgY\"&gt;&lt;svg class=\"UctUV d H0\" vi...</td>\n",
       "      <td>/Restaurant_Review-g187514-d23446200-Reviews-E...</td>\n",
       "    </tr>\n",
       "    <tr>\n",
       "      <th>2</th>\n",
       "      <td>&lt;a href=\"/Restaurant_Review-g187514-d23999961-...</td>\n",
       "      <td>[Cerrado ahora, Peruana, Street food / Comida ...</td>\n",
       "      <td>&lt;span class=\"IiChw\"&gt;305&lt;!-- --&gt; opiniones&lt;/span&gt;</td>\n",
       "      <td>&lt;span class=\"GmcgY\"&gt;&lt;svg class=\"UctUV d H0\" vi...</td>\n",
       "      <td>/Restaurant_Review-g187514-d23999961-Reviews-L...</td>\n",
       "    </tr>\n",
       "    <tr>\n",
       "      <th>3</th>\n",
       "      <td>&lt;a href=\"/Restaurant_Review-g187514-d18480953-...</td>\n",
       "      <td>[Cerrado ahora, Italiana, Pizza, €€ - €€€]</td>\n",
       "      <td>&lt;span class=\"IiChw\"&gt;720&lt;!-- --&gt; opiniones&lt;/span&gt;</td>\n",
       "      <td>&lt;span class=\"GmcgY\"&gt;&lt;svg class=\"UctUV d H0\" vi...</td>\n",
       "      <td>/Restaurant_Review-g187514-d18480953-Reviews-P...</td>\n",
       "    </tr>\n",
       "    <tr>\n",
       "      <th>4</th>\n",
       "      <td>&lt;a href=\"/Restaurant_Review-g187514-d12216862-...</td>\n",
       "      <td>[Cierra en 10 minutos, Latina, Bar, €€ - €€€]</td>\n",
       "      <td>&lt;span class=\"IiChw\"&gt;3806&lt;!-- --&gt; opiniones&lt;/span&gt;</td>\n",
       "      <td>&lt;span class=\"GmcgY\"&gt;&lt;svg class=\"UctUV d H0\" vi...</td>\n",
       "      <td>/Restaurant_Review-g187514-d12216862-Reviews-G...</td>\n",
       "    </tr>\n",
       "  </tbody>\n",
       "</table>\n",
       "</div>"
      ],
      "text/plain": [
       "                                            name_raw  \\\n",
       "0  <a href=\"/Restaurant_Review-g187514-d2006562-R...   \n",
       "1  <a href=\"/Restaurant_Review-g187514-d23446200-...   \n",
       "2  <a href=\"/Restaurant_Review-g187514-d23999961-...   \n",
       "3  <a href=\"/Restaurant_Review-g187514-d18480953-...   \n",
       "4  <a href=\"/Restaurant_Review-g187514-d12216862-...   \n",
       "\n",
       "                                           price_raw  \\\n",
       "0  [Cerrado ahora, Española, Internacional, €€ - ...   \n",
       "1           [Cerrado ahora, Argentina, Sudamericana]   \n",
       "2  [Cerrado ahora, Peruana, Street food / Comida ...   \n",
       "3         [Cerrado ahora, Italiana, Pizza, €€ - €€€]   \n",
       "4      [Cierra en 10 minutos, Latina, Bar, €€ - €€€]   \n",
       "\n",
       "                                             reviews  \\\n",
       "0  <span class=\"IiChw\">10.747<!-- --> opiniones</...   \n",
       "1   <span class=\"IiChw\">158<!-- --> opiniones</span>   \n",
       "2   <span class=\"IiChw\">305<!-- --> opiniones</span>   \n",
       "3   <span class=\"IiChw\">720<!-- --> opiniones</span>   \n",
       "4  <span class=\"IiChw\">3806<!-- --> opiniones</span>   \n",
       "\n",
       "                                          rating_raw  \\\n",
       "0  <span class=\"GmcgY\"><svg class=\"UctUV d H0\" vi...   \n",
       "1  <span class=\"GmcgY\"><svg class=\"UctUV d H0\" vi...   \n",
       "2  <span class=\"GmcgY\"><svg class=\"UctUV d H0\" vi...   \n",
       "3  <span class=\"GmcgY\"><svg class=\"UctUV d H0\" vi...   \n",
       "4  <span class=\"GmcgY\"><svg class=\"UctUV d H0\" vi...   \n",
       "\n",
       "                                                 url  \n",
       "0  /Restaurant_Review-g187514-d2006562-Reviews-Lo...  \n",
       "1  /Restaurant_Review-g187514-d23446200-Reviews-E...  \n",
       "2  /Restaurant_Review-g187514-d23999961-Reviews-L...  \n",
       "3  /Restaurant_Review-g187514-d18480953-Reviews-P...  \n",
       "4  /Restaurant_Review-g187514-d12216862-Reviews-G...  "
      ]
     },
     "execution_count": 4,
     "metadata": {},
     "output_type": "execute_result"
    }
   ],
   "source": [
    "df_original = pd.read_json('../data/tripadvisor/tripadvisor_.json')\n",
    "print(df_original.shape)\n",
    "df_original.head()"
   ]
  },
  {
   "cell_type": "code",
   "execution_count": 5,
   "metadata": {},
   "outputs": [
    {
     "name": "stdout",
     "output_type": "stream",
     "text": [
      "(9600, 17)\n"
     ]
    },
    {
     "data": {
      "text/html": [
       "<div>\n",
       "<style scoped>\n",
       "    .dataframe tbody tr th:only-of-type {\n",
       "        vertical-align: middle;\n",
       "    }\n",
       "\n",
       "    .dataframe tbody tr th {\n",
       "        vertical-align: top;\n",
       "    }\n",
       "\n",
       "    .dataframe thead th {\n",
       "        text-align: right;\n",
       "    }\n",
       "</style>\n",
       "<table border=\"1\" class=\"dataframe\">\n",
       "  <thead>\n",
       "    <tr style=\"text-align: right;\">\n",
       "      <th></th>\n",
       "      <th>name</th>\n",
       "      <th>url</th>\n",
       "      <th>province</th>\n",
       "      <th>city</th>\n",
       "      <th>price_all</th>\n",
       "      <th>price</th>\n",
       "      <th>direction</th>\n",
       "      <th>latitude</th>\n",
       "      <th>longitude</th>\n",
       "      <th>cuisines</th>\n",
       "      <th>meals</th>\n",
       "      <th>specialDiets</th>\n",
       "      <th>priceRangeNum</th>\n",
       "      <th>locationAll</th>\n",
       "      <th>coordinates</th>\n",
       "      <th>rating</th>\n",
       "      <th>positionlink</th>\n",
       "    </tr>\n",
       "  </thead>\n",
       "  <tbody>\n",
       "    <tr>\n",
       "      <th>0</th>\n",
       "      <td>Los Montes de Galicia</td>\n",
       "      <td>/Restaurant_Review-g187514-d2006562-Reviews-Lo...</td>\n",
       "      <td>Comunidad de Madrid</td>\n",
       "      <td>Madrid</td>\n",
       "      <td>[&lt;span class=\"DsyBj DxyfE\"&gt;&lt;a class=\"dlMOJ\" hr...</td>\n",
       "      <td>€€ - €€€</td>\n",
       "      <td>Calle Azcona 46 PISO 8, 28028 Madrid España</td>\n",
       "      <td>NaN</td>\n",
       "      <td>NaN</td>\n",
       "      <td>Española, Internacional, Mediterránea, Saludable</td>\n",
       "      <td>None</td>\n",
       "      <td>None</td>\n",
       "      <td>50 € - 80 €</td>\n",
       "      <td>NaN</td>\n",
       "      <td>NaN</td>\n",
       "      <td>[5,0 de 5 burbujas]</td>\n",
       "      <td>NaN</td>\n",
       "    </tr>\n",
       "    <tr>\n",
       "      <th>1</th>\n",
       "      <td>Empanadas Malvón</td>\n",
       "      <td>/Restaurant_Review-g187514-d23446200-Reviews-E...</td>\n",
       "      <td>Comunidad de Madrid</td>\n",
       "      <td>Madrid</td>\n",
       "      <td>[&lt;span class=\"DsyBj DxyfE\"&gt;&lt;a class=\"dlMOJ\" hr...</td>\n",
       "      <td>Argentina</td>\n",
       "      <td>Calle de Luchana 3, 28010 Madrid España</td>\n",
       "      <td>NaN</td>\n",
       "      <td>NaN</td>\n",
       "      <td>Argentina, Sudamericana</td>\n",
       "      <td>Comidas, Cenas</td>\n",
       "      <td>None</td>\n",
       "      <td>None</td>\n",
       "      <td>NaN</td>\n",
       "      <td>NaN</td>\n",
       "      <td>[5,0 de 5 burbujas]</td>\n",
       "      <td>NaN</td>\n",
       "    </tr>\n",
       "    <tr>\n",
       "      <th>2</th>\n",
       "      <td>La Bajada Street Food</td>\n",
       "      <td>/Restaurant_Review-g187514-d23999961-Reviews-L...</td>\n",
       "      <td>Comunidad de Madrid</td>\n",
       "      <td>Madrid</td>\n",
       "      <td>[&lt;span class=\"DsyBj DxyfE\"&gt;&lt;a class=\"dlMOJ\" hr...</td>\n",
       "      <td>Peruana</td>\n",
       "      <td>Calla Alcalá 414. Ciudad lineal dentro del cen...</td>\n",
       "      <td>NaN</td>\n",
       "      <td>NaN</td>\n",
       "      <td>Peruana, Street food / Comida en la calle, Sud...</td>\n",
       "      <td>Comidas, Cenas</td>\n",
       "      <td>None</td>\n",
       "      <td>None</td>\n",
       "      <td>NaN</td>\n",
       "      <td>NaN</td>\n",
       "      <td>[5,0 de 5 burbujas]</td>\n",
       "      <td>NaN</td>\n",
       "    </tr>\n",
       "    <tr>\n",
       "      <th>3</th>\n",
       "      <td>Pastamore</td>\n",
       "      <td>/Restaurant_Review-g187514-d18480953-Reviews-P...</td>\n",
       "      <td>Comunidad de Madrid</td>\n",
       "      <td>Madrid</td>\n",
       "      <td>[&lt;span class=\"DsyBj DxyfE\"&gt;&lt;a class=\"dlMOJ\" hr...</td>\n",
       "      <td>€€ - €€€</td>\n",
       "      <td>Calle Alcalá, 191, 28009 Madrid España</td>\n",
       "      <td>NaN</td>\n",
       "      <td>NaN</td>\n",
       "      <td>Italiana, Pizza, Mediterránea, Saludable, Tosc...</td>\n",
       "      <td>None</td>\n",
       "      <td>Opciones vegetarianas, Opciones veganas, Opcio...</td>\n",
       "      <td>15 € - 23 €</td>\n",
       "      <td>NaN</td>\n",
       "      <td>NaN</td>\n",
       "      <td>[5,0 de 5 burbujas]</td>\n",
       "      <td>NaN</td>\n",
       "    </tr>\n",
       "    <tr>\n",
       "      <th>4</th>\n",
       "      <td>Grama Lounge</td>\n",
       "      <td>/Restaurant_Review-g187514-d12216862-Reviews-G...</td>\n",
       "      <td>Comunidad de Madrid</td>\n",
       "      <td>Madrid</td>\n",
       "      <td>[&lt;span class=\"DsyBj DxyfE\"&gt;&lt;a class=\"dlMOJ\" hr...</td>\n",
       "      <td>€€ - €€€</td>\n",
       "      <td>Calle de la Cruz 19, 28012 Madrid España</td>\n",
       "      <td>NaN</td>\n",
       "      <td>NaN</td>\n",
       "      <td>Latina, Bar, Venezolana</td>\n",
       "      <td>None</td>\n",
       "      <td>None</td>\n",
       "      <td>5 € - 18 €</td>\n",
       "      <td>NaN</td>\n",
       "      <td>NaN</td>\n",
       "      <td>[5,0 de 5 burbujas]</td>\n",
       "      <td>NaN</td>\n",
       "    </tr>\n",
       "  </tbody>\n",
       "</table>\n",
       "</div>"
      ],
      "text/plain": [
       "                    name                                                url  \\\n",
       "0  Los Montes de Galicia  /Restaurant_Review-g187514-d2006562-Reviews-Lo...   \n",
       "1       Empanadas Malvón  /Restaurant_Review-g187514-d23446200-Reviews-E...   \n",
       "2  La Bajada Street Food  /Restaurant_Review-g187514-d23999961-Reviews-L...   \n",
       "3              Pastamore  /Restaurant_Review-g187514-d18480953-Reviews-P...   \n",
       "4           Grama Lounge  /Restaurant_Review-g187514-d12216862-Reviews-G...   \n",
       "\n",
       "              province    city  \\\n",
       "0  Comunidad de Madrid  Madrid   \n",
       "1  Comunidad de Madrid  Madrid   \n",
       "2  Comunidad de Madrid  Madrid   \n",
       "3  Comunidad de Madrid  Madrid   \n",
       "4  Comunidad de Madrid  Madrid   \n",
       "\n",
       "                                           price_all      price  \\\n",
       "0  [<span class=\"DsyBj DxyfE\"><a class=\"dlMOJ\" hr...   €€ - €€€   \n",
       "1  [<span class=\"DsyBj DxyfE\"><a class=\"dlMOJ\" hr...  Argentina   \n",
       "2  [<span class=\"DsyBj DxyfE\"><a class=\"dlMOJ\" hr...    Peruana   \n",
       "3  [<span class=\"DsyBj DxyfE\"><a class=\"dlMOJ\" hr...   €€ - €€€   \n",
       "4  [<span class=\"DsyBj DxyfE\"><a class=\"dlMOJ\" hr...   €€ - €€€   \n",
       "\n",
       "                                           direction  latitude  longitude  \\\n",
       "0        Calle Azcona 46 PISO 8, 28028 Madrid España       NaN        NaN   \n",
       "1            Calle de Luchana 3, 28010 Madrid España       NaN        NaN   \n",
       "2  Calla Alcalá 414. Ciudad lineal dentro del cen...       NaN        NaN   \n",
       "3             Calle Alcalá, 191, 28009 Madrid España       NaN        NaN   \n",
       "4           Calle de la Cruz 19, 28012 Madrid España       NaN        NaN   \n",
       "\n",
       "                                            cuisines           meals  \\\n",
       "0   Española, Internacional, Mediterránea, Saludable            None   \n",
       "1                            Argentina, Sudamericana  Comidas, Cenas   \n",
       "2  Peruana, Street food / Comida en la calle, Sud...  Comidas, Cenas   \n",
       "3  Italiana, Pizza, Mediterránea, Saludable, Tosc...            None   \n",
       "4                            Latina, Bar, Venezolana            None   \n",
       "\n",
       "                                        specialDiets priceRangeNum  \\\n",
       "0                                               None   50 € - 80 €   \n",
       "1                                               None          None   \n",
       "2                                               None          None   \n",
       "3  Opciones vegetarianas, Opciones veganas, Opcio...   15 € - 23 €   \n",
       "4                                               None    5 € - 18 €   \n",
       "\n",
       "   locationAll  coordinates               rating  positionlink  \n",
       "0          NaN          NaN  [5,0 de 5 burbujas]           NaN  \n",
       "1          NaN          NaN  [5,0 de 5 burbujas]           NaN  \n",
       "2          NaN          NaN  [5,0 de 5 burbujas]           NaN  \n",
       "3          NaN          NaN  [5,0 de 5 burbujas]           NaN  \n",
       "4          NaN          NaN  [5,0 de 5 burbujas]           NaN  "
      ]
     },
     "execution_count": 5,
     "metadata": {},
     "output_type": "execute_result"
    }
   ],
   "source": [
    "df_enriched = pd.read_json('../data/tripadvisor/restaurants.json')\n",
    "print(df_enriched.shape)\n",
    "df_enriched.head()"
   ]
  },
  {
   "cell_type": "code",
   "execution_count": 6,
   "metadata": {},
   "outputs": [
    {
     "data": {
      "text/plain": [
       "both          9601\n",
       "left_only        0\n",
       "right_only       0\n",
       "Name: _merge, dtype: int64"
      ]
     },
     "execution_count": 6,
     "metadata": {},
     "output_type": "execute_result"
    }
   ],
   "source": [
    "df = df_original.merge(df_enriched, left_on='url', right_on='url', how = 'right', indicator = True)\n",
    "df['_merge'].value_counts()"
   ]
  },
  {
   "cell_type": "code",
   "execution_count": 7,
   "metadata": {},
   "outputs": [
    {
     "name": "stdout",
     "output_type": "stream",
     "text": [
      "(9601, 22)\n"
     ]
    },
    {
     "data": {
      "text/html": [
       "<div>\n",
       "<style scoped>\n",
       "    .dataframe tbody tr th:only-of-type {\n",
       "        vertical-align: middle;\n",
       "    }\n",
       "\n",
       "    .dataframe tbody tr th {\n",
       "        vertical-align: top;\n",
       "    }\n",
       "\n",
       "    .dataframe thead th {\n",
       "        text-align: right;\n",
       "    }\n",
       "</style>\n",
       "<table border=\"1\" class=\"dataframe\">\n",
       "  <thead>\n",
       "    <tr style=\"text-align: right;\">\n",
       "      <th></th>\n",
       "      <th>name_raw</th>\n",
       "      <th>price_raw</th>\n",
       "      <th>reviews</th>\n",
       "      <th>rating_raw</th>\n",
       "      <th>url</th>\n",
       "      <th>name</th>\n",
       "      <th>province</th>\n",
       "      <th>city</th>\n",
       "      <th>price_all</th>\n",
       "      <th>price</th>\n",
       "      <th>direction</th>\n",
       "      <th>latitude</th>\n",
       "      <th>longitude</th>\n",
       "      <th>cuisines</th>\n",
       "      <th>meals</th>\n",
       "      <th>specialDiets</th>\n",
       "      <th>priceRangeNum</th>\n",
       "      <th>locationAll</th>\n",
       "      <th>coordinates</th>\n",
       "      <th>rating</th>\n",
       "      <th>positionlink</th>\n",
       "      <th>_merge</th>\n",
       "    </tr>\n",
       "  </thead>\n",
       "  <tbody>\n",
       "    <tr>\n",
       "      <th>0</th>\n",
       "      <td>&lt;a href=\"/Restaurant_Review-g187514-d2006562-R...</td>\n",
       "      <td>[Cerrado ahora, Española, Internacional, €€ - ...</td>\n",
       "      <td>&lt;span class=\"IiChw\"&gt;10.747&lt;!-- --&gt; opiniones&lt;/...</td>\n",
       "      <td>&lt;span class=\"GmcgY\"&gt;&lt;svg class=\"UctUV d H0\" vi...</td>\n",
       "      <td>/Restaurant_Review-g187514-d2006562-Reviews-Lo...</td>\n",
       "      <td>Los Montes de Galicia</td>\n",
       "      <td>Comunidad de Madrid</td>\n",
       "      <td>Madrid</td>\n",
       "      <td>[&lt;span class=\"DsyBj DxyfE\"&gt;&lt;a class=\"dlMOJ\" hr...</td>\n",
       "      <td>€€ - €€€</td>\n",
       "      <td>Calle Azcona 46 PISO 8, 28028 Madrid España</td>\n",
       "      <td>NaN</td>\n",
       "      <td>NaN</td>\n",
       "      <td>Española, Internacional, Mediterránea, Saludable</td>\n",
       "      <td>None</td>\n",
       "      <td>None</td>\n",
       "      <td>50 € - 80 €</td>\n",
       "      <td>NaN</td>\n",
       "      <td>NaN</td>\n",
       "      <td>[5,0 de 5 burbujas]</td>\n",
       "      <td>NaN</td>\n",
       "      <td>both</td>\n",
       "    </tr>\n",
       "  </tbody>\n",
       "</table>\n",
       "</div>"
      ],
      "text/plain": [
       "                                            name_raw  \\\n",
       "0  <a href=\"/Restaurant_Review-g187514-d2006562-R...   \n",
       "\n",
       "                                           price_raw  \\\n",
       "0  [Cerrado ahora, Española, Internacional, €€ - ...   \n",
       "\n",
       "                                             reviews  \\\n",
       "0  <span class=\"IiChw\">10.747<!-- --> opiniones</...   \n",
       "\n",
       "                                          rating_raw  \\\n",
       "0  <span class=\"GmcgY\"><svg class=\"UctUV d H0\" vi...   \n",
       "\n",
       "                                                 url                   name  \\\n",
       "0  /Restaurant_Review-g187514-d2006562-Reviews-Lo...  Los Montes de Galicia   \n",
       "\n",
       "              province    city  \\\n",
       "0  Comunidad de Madrid  Madrid   \n",
       "\n",
       "                                           price_all     price  \\\n",
       "0  [<span class=\"DsyBj DxyfE\"><a class=\"dlMOJ\" hr...  €€ - €€€   \n",
       "\n",
       "                                     direction  latitude  longitude  \\\n",
       "0  Calle Azcona 46 PISO 8, 28028 Madrid España       NaN        NaN   \n",
       "\n",
       "                                           cuisines meals specialDiets  \\\n",
       "0  Española, Internacional, Mediterránea, Saludable  None         None   \n",
       "\n",
       "  priceRangeNum  locationAll  coordinates               rating  positionlink  \\\n",
       "0   50 € - 80 €          NaN          NaN  [5,0 de 5 burbujas]           NaN   \n",
       "\n",
       "  _merge  \n",
       "0   both  "
      ]
     },
     "execution_count": 7,
     "metadata": {},
     "output_type": "execute_result"
    }
   ],
   "source": [
    "print(df.shape)\n",
    "df.head(1)"
   ]
  },
  {
   "cell_type": "markdown",
   "metadata": {},
   "source": [
    "# cleaning"
   ]
  },
  {
   "attachments": {},
   "cell_type": "markdown",
   "metadata": {},
   "source": [
    "## price categories\n",
    "checking the price categories, there are less categories than on the original file. We will need to evaluate if it's possible to split the data to get another category in the `€€` cone more equivalent to a medium-high price range."
   ]
  },
  {
   "cell_type": "code",
   "execution_count": 8,
   "metadata": {},
   "outputs": [
    {
     "data": {
      "text/plain": [
       "€€      4995\n",
       "€       1785\n",
       "€€€€     332\n",
       "Name: priceRange_clean, dtype: int64"
      ]
     },
     "execution_count": 8,
     "metadata": {},
     "output_type": "execute_result"
    }
   ],
   "source": [
    "df['priceRange_clean'] = df['price'].str.extract(r'(€{1,})')\n",
    "df['priceRange_clean'].value_counts()"
   ]
  },
  {
   "cell_type": "code",
   "execution_count": 9,
   "metadata": {},
   "outputs": [
    {
     "data": {
      "text/plain": [
       "avg_PriceRangeNum  priceRange_clean\n",
       "20.0               €€                  177\n",
       "15.0               €€                  144\n",
       "17.5               €€                  139\n",
       "25.0               €€                  117\n",
       "12.5               €€                  113\n",
       "                                      ... \n",
       "51.0               €€€€                  1\n",
       "50.5               €€                    1\n",
       "49.5               €€€€                  1\n",
       "49.0               €€€€                  1\n",
       "301.0              €€€€                  1\n",
       "Length: 258, dtype: int64"
      ]
     },
     "execution_count": 9,
     "metadata": {},
     "output_type": "execute_result"
    }
   ],
   "source": [
    "df['min_PriceRangeNum'] = df['priceRangeNum'].str.extract(r'(.*)€ - .*€').astype(float)\n",
    "df['max_PriceRangeNum'] = df['priceRangeNum'].str.extract(r'.*€ - (.*)€').astype(float)\n",
    "df['avg_PriceRangeNum'] = df[[\"min_PriceRangeNum\",\"max_PriceRangeNum\"]].mean(axis = 1)\n",
    "df[['avg_PriceRangeNum', 'priceRange_clean']].value_counts()"
   ]
  },
  {
   "cell_type": "code",
   "execution_count": 10,
   "metadata": {},
   "outputs": [
    {
     "data": {
      "text/plain": [
       "20.0     177\n",
       "15.0     144\n",
       "17.5     139\n",
       "25.0     117\n",
       "12.5     113\n",
       "        ... \n",
       "118.0      1\n",
       "92.5       1\n",
       "72.0       1\n",
       "74.0       1\n",
       "44.0       1\n",
       "Name: avg_PriceRangeNum, Length: 119, dtype: int64"
      ]
     },
     "execution_count": 10,
     "metadata": {},
     "output_type": "execute_result"
    }
   ],
   "source": [
    "df[df['priceRange_clean']=='€€']['avg_PriceRangeNum'].value_counts()"
   ]
  },
  {
   "cell_type": "code",
   "execution_count": 11,
   "metadata": {},
   "outputs": [],
   "source": [
    "df_modified = df[df['priceRange_clean'] == '€€']\n",
    "df_notmodified = df[df['priceRange_clean'] != '€€']"
   ]
  },
  {
   "cell_type": "code",
   "execution_count": 12,
   "metadata": {},
   "outputs": [
    {
     "data": {
      "text/plain": [
       "21.101611635220127"
      ]
     },
     "execution_count": 12,
     "metadata": {},
     "output_type": "execute_result"
    }
   ],
   "source": [
    "df_modified['avg_PriceRangeNum'].mean()"
   ]
  },
  {
   "cell_type": "code",
   "execution_count": 13,
   "metadata": {},
   "outputs": [],
   "source": [
    "df_modified['priceRange_clean'] = np.where((df_modified['avg_PriceRangeNum'] > df_modified['avg_PriceRangeNum'].mean()), '€€€', '€€')"
   ]
  },
  {
   "cell_type": "code",
   "execution_count": 14,
   "metadata": {},
   "outputs": [
    {
     "data": {
      "image/png": "[encoded data removed]",
      "text/plain": [
       "<Figure size 640x480 with 1 Axes>"
      ]
     },
     "metadata": {},
     "output_type": "display_data"
    }
   ],
   "source": [
    "sns.kdeplot(data=df_modified, hue='priceRange_clean', x='avg_PriceRangeNum');"
   ]
  },
  {
   "cell_type": "code",
   "execution_count": 15,
   "metadata": {},
   "outputs": [
    {
     "data": {
      "text/plain": [
       "(9601, 26)"
      ]
     },
     "execution_count": 15,
     "metadata": {},
     "output_type": "execute_result"
    }
   ],
   "source": [
    "df = pd.concat([df_modified, df_notmodified], axis = 0)\n",
    "df.shape"
   ]
  },
  {
   "cell_type": "code",
   "execution_count": 16,
   "metadata": {},
   "outputs": [
    {
     "data": {
      "image/png": "[encoded data removed]",
      "text/plain": [
       "<Figure size 640x480 with 1 Axes>"
      ]
     },
     "metadata": {},
     "output_type": "display_data"
    }
   ],
   "source": [
    "sns.kdeplot(data=df, hue='priceRange_clean', x='avg_PriceRangeNum');"
   ]
  },
  {
   "cell_type": "code",
   "execution_count": 17,
   "metadata": {},
   "outputs": [
    {
     "data": {
      "text/plain": [
       "€€      4033\n",
       "€       1785\n",
       "€€€      962\n",
       "€€€€     332\n",
       "Name: priceRange_clean, dtype: int64"
      ]
     },
     "execution_count": 17,
     "metadata": {},
     "output_type": "execute_result"
    }
   ],
   "source": [
    "df['priceRange_clean'].value_counts()"
   ]
  },
  {
   "cell_type": "markdown",
   "metadata": {},
   "source": [
    "## reviews"
   ]
  },
  {
   "cell_type": "code",
   "execution_count": 18,
   "metadata": {},
   "outputs": [
    {
     "data": {
      "text/html": [
       "<div>\n",
       "<style scoped>\n",
       "    .dataframe tbody tr th:only-of-type {\n",
       "        vertical-align: middle;\n",
       "    }\n",
       "\n",
       "    .dataframe tbody tr th {\n",
       "        vertical-align: top;\n",
       "    }\n",
       "\n",
       "    .dataframe thead th {\n",
       "        text-align: right;\n",
       "    }\n",
       "</style>\n",
       "<table border=\"1\" class=\"dataframe\">\n",
       "  <thead>\n",
       "    <tr style=\"text-align: right;\">\n",
       "      <th></th>\n",
       "      <th>name_raw</th>\n",
       "      <th>price_raw</th>\n",
       "      <th>reviews</th>\n",
       "      <th>rating_raw</th>\n",
       "      <th>url</th>\n",
       "      <th>name</th>\n",
       "      <th>province</th>\n",
       "      <th>city</th>\n",
       "      <th>price_all</th>\n",
       "      <th>price</th>\n",
       "      <th>direction</th>\n",
       "      <th>latitude</th>\n",
       "      <th>longitude</th>\n",
       "      <th>cuisines</th>\n",
       "      <th>meals</th>\n",
       "      <th>specialDiets</th>\n",
       "      <th>priceRangeNum</th>\n",
       "      <th>locationAll</th>\n",
       "      <th>coordinates</th>\n",
       "      <th>rating</th>\n",
       "      <th>positionlink</th>\n",
       "      <th>_merge</th>\n",
       "      <th>priceRange_clean</th>\n",
       "      <th>min_PriceRangeNum</th>\n",
       "      <th>max_PriceRangeNum</th>\n",
       "      <th>avg_PriceRangeNum</th>\n",
       "    </tr>\n",
       "  </thead>\n",
       "  <tbody>\n",
       "    <tr>\n",
       "      <th>0</th>\n",
       "      <td>&lt;a href=\"/Restaurant_Review-g187514-d2006562-R...</td>\n",
       "      <td>[Cerrado ahora, Española, Internacional, €€ - ...</td>\n",
       "      <td>&lt;span class=\"IiChw\"&gt;10.747&lt;!-- --&gt; opiniones&lt;/...</td>\n",
       "      <td>&lt;span class=\"GmcgY\"&gt;&lt;svg class=\"UctUV d H0\" vi...</td>\n",
       "      <td>/Restaurant_Review-g187514-d2006562-Reviews-Lo...</td>\n",
       "      <td>Los Montes de Galicia</td>\n",
       "      <td>Comunidad de Madrid</td>\n",
       "      <td>Madrid</td>\n",
       "      <td>[&lt;span class=\"DsyBj DxyfE\"&gt;&lt;a class=\"dlMOJ\" hr...</td>\n",
       "      <td>€€ - €€€</td>\n",
       "      <td>Calle Azcona 46 PISO 8, 28028 Madrid España</td>\n",
       "      <td>NaN</td>\n",
       "      <td>NaN</td>\n",
       "      <td>Española, Internacional, Mediterránea, Saludable</td>\n",
       "      <td>None</td>\n",
       "      <td>None</td>\n",
       "      <td>50 € - 80 €</td>\n",
       "      <td>NaN</td>\n",
       "      <td>NaN</td>\n",
       "      <td>[5,0 de 5 burbujas]</td>\n",
       "      <td>NaN</td>\n",
       "      <td>both</td>\n",
       "      <td>€€€</td>\n",
       "      <td>50.0</td>\n",
       "      <td>80.0</td>\n",
       "      <td>65.0</td>\n",
       "    </tr>\n",
       "  </tbody>\n",
       "</table>\n",
       "</div>"
      ],
      "text/plain": [
       "                                            name_raw  \\\n",
       "0  <a href=\"/Restaurant_Review-g187514-d2006562-R...   \n",
       "\n",
       "                                           price_raw  \\\n",
       "0  [Cerrado ahora, Española, Internacional, €€ - ...   \n",
       "\n",
       "                                             reviews  \\\n",
       "0  <span class=\"IiChw\">10.747<!-- --> opiniones</...   \n",
       "\n",
       "                                          rating_raw  \\\n",
       "0  <span class=\"GmcgY\"><svg class=\"UctUV d H0\" vi...   \n",
       "\n",
       "                                                 url                   name  \\\n",
       "0  /Restaurant_Review-g187514-d2006562-Reviews-Lo...  Los Montes de Galicia   \n",
       "\n",
       "              province    city  \\\n",
       "0  Comunidad de Madrid  Madrid   \n",
       "\n",
       "                                           price_all     price  \\\n",
       "0  [<span class=\"DsyBj DxyfE\"><a class=\"dlMOJ\" hr...  €€ - €€€   \n",
       "\n",
       "                                     direction  latitude  longitude  \\\n",
       "0  Calle Azcona 46 PISO 8, 28028 Madrid España       NaN        NaN   \n",
       "\n",
       "                                           cuisines meals specialDiets  \\\n",
       "0  Española, Internacional, Mediterránea, Saludable  None         None   \n",
       "\n",
       "  priceRangeNum  locationAll  coordinates               rating  positionlink  \\\n",
       "0   50 € - 80 €          NaN          NaN  [5,0 de 5 burbujas]           NaN   \n",
       "\n",
       "  _merge priceRange_clean  min_PriceRangeNum  max_PriceRangeNum  \\\n",
       "0   both              €€€               50.0               80.0   \n",
       "\n",
       "   avg_PriceRangeNum  \n",
       "0               65.0  "
      ]
     },
     "execution_count": 18,
     "metadata": {},
     "output_type": "execute_result"
    }
   ],
   "source": [
    "df.head(1)"
   ]
  },
  {
   "cell_type": "code",
   "execution_count": 19,
   "metadata": {},
   "outputs": [],
   "source": [
    "df['reviews_clean'] = df['reviews'].str.extract(r'\">(.*)<!-- -->.*</')[0].str.replace('.','')"
   ]
  },
  {
   "attachments": {},
   "cell_type": "markdown",
   "metadata": {},
   "source": [
    "## rating"
   ]
  },
  {
   "cell_type": "code",
   "execution_count": 20,
   "metadata": {},
   "outputs": [
    {
     "data": {
      "text/html": [
       "<div>\n",
       "<style scoped>\n",
       "    .dataframe tbody tr th:only-of-type {\n",
       "        vertical-align: middle;\n",
       "    }\n",
       "\n",
       "    .dataframe tbody tr th {\n",
       "        vertical-align: top;\n",
       "    }\n",
       "\n",
       "    .dataframe thead th {\n",
       "        text-align: right;\n",
       "    }\n",
       "</style>\n",
       "<table border=\"1\" class=\"dataframe\">\n",
       "  <thead>\n",
       "    <tr style=\"text-align: right;\">\n",
       "      <th></th>\n",
       "      <th>name_raw</th>\n",
       "      <th>price_raw</th>\n",
       "      <th>reviews</th>\n",
       "      <th>rating_raw</th>\n",
       "      <th>url</th>\n",
       "      <th>name</th>\n",
       "      <th>province</th>\n",
       "      <th>city</th>\n",
       "      <th>price_all</th>\n",
       "      <th>price</th>\n",
       "      <th>direction</th>\n",
       "      <th>latitude</th>\n",
       "      <th>longitude</th>\n",
       "      <th>cuisines</th>\n",
       "      <th>meals</th>\n",
       "      <th>specialDiets</th>\n",
       "      <th>priceRangeNum</th>\n",
       "      <th>locationAll</th>\n",
       "      <th>coordinates</th>\n",
       "      <th>rating</th>\n",
       "      <th>positionlink</th>\n",
       "      <th>_merge</th>\n",
       "      <th>priceRange_clean</th>\n",
       "      <th>min_PriceRangeNum</th>\n",
       "      <th>max_PriceRangeNum</th>\n",
       "      <th>avg_PriceRangeNum</th>\n",
       "      <th>reviews_clean</th>\n",
       "    </tr>\n",
       "  </thead>\n",
       "  <tbody>\n",
       "    <tr>\n",
       "      <th>0</th>\n",
       "      <td>&lt;a href=\"/Restaurant_Review-g187514-d2006562-R...</td>\n",
       "      <td>[Cerrado ahora, Española, Internacional, €€ - ...</td>\n",
       "      <td>&lt;span class=\"IiChw\"&gt;10.747&lt;!-- --&gt; opiniones&lt;/...</td>\n",
       "      <td>&lt;span class=\"GmcgY\"&gt;&lt;svg class=\"UctUV d H0\" vi...</td>\n",
       "      <td>/Restaurant_Review-g187514-d2006562-Reviews-Lo...</td>\n",
       "      <td>Los Montes de Galicia</td>\n",
       "      <td>Comunidad de Madrid</td>\n",
       "      <td>Madrid</td>\n",
       "      <td>[&lt;span class=\"DsyBj DxyfE\"&gt;&lt;a class=\"dlMOJ\" hr...</td>\n",
       "      <td>€€ - €€€</td>\n",
       "      <td>Calle Azcona 46 PISO 8, 28028 Madrid España</td>\n",
       "      <td>NaN</td>\n",
       "      <td>NaN</td>\n",
       "      <td>Española, Internacional, Mediterránea, Saludable</td>\n",
       "      <td>None</td>\n",
       "      <td>None</td>\n",
       "      <td>50 € - 80 €</td>\n",
       "      <td>NaN</td>\n",
       "      <td>NaN</td>\n",
       "      <td>[5,0 de 5 burbujas]</td>\n",
       "      <td>NaN</td>\n",
       "      <td>both</td>\n",
       "      <td>€€€</td>\n",
       "      <td>50.0</td>\n",
       "      <td>80.0</td>\n",
       "      <td>65.0</td>\n",
       "      <td>10747</td>\n",
       "    </tr>\n",
       "  </tbody>\n",
       "</table>\n",
       "</div>"
      ],
      "text/plain": [
       "                                            name_raw  \\\n",
       "0  <a href=\"/Restaurant_Review-g187514-d2006562-R...   \n",
       "\n",
       "                                           price_raw  \\\n",
       "0  [Cerrado ahora, Española, Internacional, €€ - ...   \n",
       "\n",
       "                                             reviews  \\\n",
       "0  <span class=\"IiChw\">10.747<!-- --> opiniones</...   \n",
       "\n",
       "                                          rating_raw  \\\n",
       "0  <span class=\"GmcgY\"><svg class=\"UctUV d H0\" vi...   \n",
       "\n",
       "                                                 url                   name  \\\n",
       "0  /Restaurant_Review-g187514-d2006562-Reviews-Lo...  Los Montes de Galicia   \n",
       "\n",
       "              province    city  \\\n",
       "0  Comunidad de Madrid  Madrid   \n",
       "\n",
       "                                           price_all     price  \\\n",
       "0  [<span class=\"DsyBj DxyfE\"><a class=\"dlMOJ\" hr...  €€ - €€€   \n",
       "\n",
       "                                     direction  latitude  longitude  \\\n",
       "0  Calle Azcona 46 PISO 8, 28028 Madrid España       NaN        NaN   \n",
       "\n",
       "                                           cuisines meals specialDiets  \\\n",
       "0  Española, Internacional, Mediterránea, Saludable  None         None   \n",
       "\n",
       "  priceRangeNum  locationAll  coordinates               rating  positionlink  \\\n",
       "0   50 € - 80 €          NaN          NaN  [5,0 de 5 burbujas]           NaN   \n",
       "\n",
       "  _merge priceRange_clean  min_PriceRangeNum  max_PriceRangeNum  \\\n",
       "0   both              €€€               50.0               80.0   \n",
       "\n",
       "   avg_PriceRangeNum reviews_clean  \n",
       "0               65.0         10747  "
      ]
     },
     "execution_count": 20,
     "metadata": {},
     "output_type": "execute_result"
    }
   ],
   "source": [
    "df.head(1)"
   ]
  },
  {
   "cell_type": "code",
   "execution_count": 21,
   "metadata": {},
   "outputs": [
    {
     "data": {
      "text/plain": [
       "str"
      ]
     },
     "execution_count": 21,
     "metadata": {},
     "output_type": "execute_result"
    }
   ],
   "source": [
    "type(df['rating'][0][0])"
   ]
  },
  {
   "cell_type": "code",
   "execution_count": 22,
   "metadata": {},
   "outputs": [
    {
     "data": {
      "text/plain": [
       "[4,0 de 5 burbujas]     2607\n",
       "[4,5 de 5 burbujas]     1952\n",
       "[3,5 de 5 burbujas]     1796\n",
       "[5,0 de 5 burbujas]     1103\n",
       "[3,0 de 5 burbujas]     1014\n",
       "[2,5 de 5 burbujas]      448\n",
       "[-1,0 de 5 burbujas]     255\n",
       "[2,0 de 5 burbujas]      230\n",
       "[1,0 de 5 burbujas]      113\n",
       "[1,5 de 5 burbujas]       66\n",
       "[]                        16\n",
       "[0 opiniones]              1\n",
       "Name: rating, dtype: int64"
      ]
     },
     "execution_count": 22,
     "metadata": {},
     "output_type": "execute_result"
    }
   ],
   "source": [
    "df['rating'].value_counts()"
   ]
  },
  {
   "cell_type": "code",
   "execution_count": 37,
   "metadata": {},
   "outputs": [],
   "source": [
    "df['rating_clean'] = df['rating'].explode().replace(bb.ratings)"
   ]
  },
  {
   "cell_type": "code",
   "execution_count": 38,
   "metadata": {},
   "outputs": [
    {
     "data": {
      "text/html": [
       "<div>\n",
       "<style scoped>\n",
       "    .dataframe tbody tr th:only-of-type {\n",
       "        vertical-align: middle;\n",
       "    }\n",
       "\n",
       "    .dataframe tbody tr th {\n",
       "        vertical-align: top;\n",
       "    }\n",
       "\n",
       "    .dataframe thead th {\n",
       "        text-align: right;\n",
       "    }\n",
       "</style>\n",
       "<table border=\"1\" class=\"dataframe\">\n",
       "  <thead>\n",
       "    <tr style=\"text-align: right;\">\n",
       "      <th></th>\n",
       "      <th>name_raw</th>\n",
       "      <th>price_raw</th>\n",
       "      <th>reviews</th>\n",
       "      <th>rating_raw</th>\n",
       "      <th>url</th>\n",
       "      <th>name</th>\n",
       "      <th>province</th>\n",
       "      <th>city</th>\n",
       "      <th>price_all</th>\n",
       "      <th>price</th>\n",
       "      <th>direction</th>\n",
       "      <th>latitude</th>\n",
       "      <th>longitude</th>\n",
       "      <th>cuisines</th>\n",
       "      <th>meals</th>\n",
       "      <th>specialDiets</th>\n",
       "      <th>priceRangeNum</th>\n",
       "      <th>locationAll</th>\n",
       "      <th>coordinates</th>\n",
       "      <th>rating</th>\n",
       "      <th>positionlink</th>\n",
       "      <th>_merge</th>\n",
       "      <th>priceRange_clean</th>\n",
       "      <th>min_PriceRangeNum</th>\n",
       "      <th>max_PriceRangeNum</th>\n",
       "      <th>avg_PriceRangeNum</th>\n",
       "      <th>reviews_clean</th>\n",
       "      <th>rating_clean</th>\n",
       "    </tr>\n",
       "  </thead>\n",
       "  <tbody>\n",
       "    <tr>\n",
       "      <th>0</th>\n",
       "      <td>&lt;a href=\"/Restaurant_Review-g187514-d2006562-R...</td>\n",
       "      <td>[Cerrado ahora, Española, Internacional, €€ - ...</td>\n",
       "      <td>&lt;span class=\"IiChw\"&gt;10.747&lt;!-- --&gt; opiniones&lt;/...</td>\n",
       "      <td>&lt;span class=\"GmcgY\"&gt;&lt;svg class=\"UctUV d H0\" vi...</td>\n",
       "      <td>/Restaurant_Review-g187514-d2006562-Reviews-Lo...</td>\n",
       "      <td>Los Montes de Galicia</td>\n",
       "      <td>Comunidad de Madrid</td>\n",
       "      <td>Madrid</td>\n",
       "      <td>[&lt;span class=\"DsyBj DxyfE\"&gt;&lt;a class=\"dlMOJ\" hr...</td>\n",
       "      <td>€€ - €€€</td>\n",
       "      <td>Calle Azcona 46 PISO 8, 28028 Madrid España</td>\n",
       "      <td>NaN</td>\n",
       "      <td>NaN</td>\n",
       "      <td>Española, Internacional, Mediterránea, Saludable</td>\n",
       "      <td>None</td>\n",
       "      <td>None</td>\n",
       "      <td>50 € - 80 €</td>\n",
       "      <td>NaN</td>\n",
       "      <td>NaN</td>\n",
       "      <td>[5,0 de 5 burbujas]</td>\n",
       "      <td>NaN</td>\n",
       "      <td>both</td>\n",
       "      <td>€€€</td>\n",
       "      <td>50.0</td>\n",
       "      <td>80.0</td>\n",
       "      <td>65.0</td>\n",
       "      <td>10747</td>\n",
       "      <td>5.0</td>\n",
       "    </tr>\n",
       "  </tbody>\n",
       "</table>\n",
       "</div>"
      ],
      "text/plain": [
       "                                            name_raw  \\\n",
       "0  <a href=\"/Restaurant_Review-g187514-d2006562-R...   \n",
       "\n",
       "                                           price_raw  \\\n",
       "0  [Cerrado ahora, Española, Internacional, €€ - ...   \n",
       "\n",
       "                                             reviews  \\\n",
       "0  <span class=\"IiChw\">10.747<!-- --> opiniones</...   \n",
       "\n",
       "                                          rating_raw  \\\n",
       "0  <span class=\"GmcgY\"><svg class=\"UctUV d H0\" vi...   \n",
       "\n",
       "                                                 url                   name  \\\n",
       "0  /Restaurant_Review-g187514-d2006562-Reviews-Lo...  Los Montes de Galicia   \n",
       "\n",
       "              province    city  \\\n",
       "0  Comunidad de Madrid  Madrid   \n",
       "\n",
       "                                           price_all     price  \\\n",
       "0  [<span class=\"DsyBj DxyfE\"><a class=\"dlMOJ\" hr...  €€ - €€€   \n",
       "\n",
       "                                     direction  latitude  longitude  \\\n",
       "0  Calle Azcona 46 PISO 8, 28028 Madrid España       NaN        NaN   \n",
       "\n",
       "                                           cuisines meals specialDiets  \\\n",
       "0  Española, Internacional, Mediterránea, Saludable  None         None   \n",
       "\n",
       "  priceRangeNum  locationAll  coordinates               rating  positionlink  \\\n",
       "0   50 € - 80 €          NaN          NaN  [5,0 de 5 burbujas]           NaN   \n",
       "\n",
       "  _merge priceRange_clean  min_PriceRangeNum  max_PriceRangeNum  \\\n",
       "0   both              €€€               50.0               80.0   \n",
       "\n",
       "   avg_PriceRangeNum reviews_clean  rating_clean  \n",
       "0               65.0         10747           5.0  "
      ]
     },
     "execution_count": 38,
     "metadata": {},
     "output_type": "execute_result"
    }
   ],
   "source": [
    "df.head(1)"
   ]
  },
  {
   "cell_type": "markdown",
   "metadata": {},
   "source": [
    "# geolocation"
   ]
  },
  {
   "cell_type": "code",
   "execution_count": null,
   "metadata": {},
   "outputs": [],
   "source": [
    "df['direction_clean'] = df['direction'].str.lower().str.findall(r'(.*\\d{1,3})\\W?.*(\\d{5} madrid españa)').explode().str.join(', ')\n",
    "df['direction_clean'].value_counts()"
   ]
  },
  {
   "cell_type": "code",
   "execution_count": null,
   "metadata": {},
   "outputs": [],
   "source": [
    "df_geolocated = sc.geolocation(df, 'direction_clean')"
   ]
  },
  {
   "cell_type": "code",
   "execution_count": null,
   "metadata": {},
   "outputs": [],
   "source": [
    "print('location null:', df[df['location'].isnull() == True].shape, 'coordinates null:', df[df['point'].isnull() == True].shape)"
   ]
  },
  {
   "cell_type": "code",
   "execution_count": null,
   "metadata": {},
   "outputs": [],
   "source": [
    "map1 = folium.Map(\n",
    "    location=[40.41694, -3.70361],\n",
    "    tiles='cartodbpositron',\n",
    "    zoom_start=12,\n",
    ")\n",
    "df_geolocated[df_geolocated['latitude'].isnull() == False].apply(lambda row:folium.CircleMarker(location=[row[\"latitude\"], row[\"longitude\"]]).add_to(map1), axis=1)\n",
    "map1"
   ]
  },
  {
   "cell_type": "code",
   "execution_count": null,
   "metadata": {},
   "outputs": [],
   "source": [
    "gdf = gpd.GeoDataFrame(df, geometry=gpd.points_from_xy(df.latitude, df.longitude)).set_crs('epsg:25830')\n",
    "ax = gdf.to_crs(epsg=3857).plot(column='price', cmap=None)\n",
    "cx.add_basemap(ax)"
   ]
  },
  {
   "cell_type": "code",
   "execution_count": null,
   "metadata": {},
   "outputs": [],
   "source": [
    "# ouput of the geolocation in case the process breaks\n",
    "df_geolocated.to_csv('../data/tripadvisor/tripadvisor_geolocated.csv')"
   ]
  }
 ],
 "metadata": {
  "kernelspec": {
   "display_name": "iron2",
   "language": "python",
   "name": "python3"
  },
  "language_info": {
   "codemirror_mode": {
    "name": "ipython",
    "version": 3
   },
   "file_extension": ".py",
   "mimetype": "text/x-python",
   "name": "python",
   "nbconvert_exporter": "python",
   "pygments_lexer": "ipython3",
   "version": "3.9.16"
  },
  "orig_nbformat": 4
 },
 "nbformat": 4,
 "nbformat_minor": 2
}
