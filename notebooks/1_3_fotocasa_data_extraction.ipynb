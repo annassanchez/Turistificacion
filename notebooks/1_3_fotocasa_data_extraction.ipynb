{
 "cells": [
  {
   "cell_type": "code",
   "execution_count": 1,
   "metadata": {},
   "outputs": [],
   "source": [
    "import pickle\n",
    "import pandas as pd\n",
    "\n",
    "import sys\n",
    "sys.path.append(\"../\")\n",
    "import src.supportScrapping as scr"
   ]
  },
  {
   "cell_type": "code",
   "execution_count": 2,
   "metadata": {},
   "outputs": [],
   "source": [
    "url = 'https://www.fotocasa.es/es/alquiler/viviendas/madrid-capital/todas-las-zonas/l'"
   ]
  },
  {
   "cell_type": "code",
   "execution_count": 3,
   "metadata": {},
   "outputs": [],
   "source": [
    "listings = {\n",
    "    \"name\":[],\n",
    "    \"price\":[],\n",
    "    \"address\":[],\n",
    "    \"owner\":[],\n",
    "    \"url\":[],\n",
    "    \"amenities\":[],\n",
    "    \"element\":[],\n",
    "    \"page\":[]\n",
    "}"
   ]
  },
  {
   "attachments": {},
   "cell_type": "markdown",
   "metadata": {},
   "source": [
    "it takes around 10 mins per page"
   ]
  },
  {
   "cell_type": "code",
   "execution_count": 4,
   "metadata": {},
   "outputs": [],
   "source": [
    "#scr.iterateLinks(url)"
   ]
  },
  {
   "cell_type": "code",
   "execution_count": 5,
   "metadata": {},
   "outputs": [
    {
     "name": "stdout",
     "output_type": "stream",
     "text": [
      "lo intento\n",
      "https://www.fotocasa.es/es/alquiler/viviendas/madrid-capital/todas-las-zonas/l/1\n",
      "element: 1 page: 1\n",
      "element: 2 page: 1\n",
      "element: 3 page: 1\n",
      "element: 4 page: 1\n",
      "element: 5 page: 1\n",
      "element: 6 page: 1\n",
      "element: 7 page: 1\n",
      "element: 8 page: 1\n",
      "element: 9 page: 1\n",
      "element: 10 page: 1\n",
      "element: 11 page: 1\n",
      "element: 12 page: 1\n"
     ]
    }
   ],
   "source": [
    "scr.seleniumFotocasa(url, listings)"
   ]
  },
  {
   "cell_type": "code",
   "execution_count": null,
   "metadata": {},
   "outputs": [],
   "source": [
    "with open(f'../data/dict_test{1}.pkl', 'rb') as dict_test:\n",
    "    ayuda = pickle.load(dict_test)"
   ]
  },
  {
   "cell_type": "code",
   "execution_count": null,
   "metadata": {},
   "outputs": [],
   "source": [
    "print(dict_test)"
   ]
  },
  {
   "cell_type": "code",
   "execution_count": null,
   "metadata": {},
   "outputs": [],
   "source": [
    "pd.DataFrame(dict_test)"
   ]
  }
 ],
 "metadata": {
  "kernelspec": {
   "display_name": "iron2",
   "language": "python",
   "name": "python3"
  },
  "language_info": {
   "codemirror_mode": {
    "name": "ipython",
    "version": 3
   },
   "file_extension": ".py",
   "mimetype": "text/x-python",
   "name": "python",
   "nbconvert_exporter": "python",
   "pygments_lexer": "ipython3",
   "version": "3.9.16"
  },
  "orig_nbformat": 4
 },
 "nbformat": 4,
 "nbformat_minor": 2
}
