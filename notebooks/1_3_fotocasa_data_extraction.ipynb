{
 "cells": [
  {
   "cell_type": "code",
   "execution_count": 1,
   "metadata": {},
   "outputs": [],
   "source": [
    "import pickle\n",
    "import pandas as pd\n",
    "\n",
    "import sys\n",
    "sys.path.append(\"../\")\n",
    "import src.supportScrapping as scr"
   ]
  },
  {
   "cell_type": "code",
   "execution_count": 2,
   "metadata": {},
   "outputs": [],
   "source": [
    "url = 'https://www.fotocasa.es/es/alquiler/viviendas/madrid-capital/todas-las-zonas/l'"
   ]
  },
  {
   "cell_type": "code",
   "execution_count": 3,
   "metadata": {},
   "outputs": [],
   "source": [
    "listings = {\n",
    "    \"name\":[],\n",
    "    \"price\":[],\n",
    "    \"address\":[],\n",
    "    \"owner\":[],\n",
    "    \"url\":[]\n",
    "}"
   ]
  },
  {
   "attachments": {},
   "cell_type": "markdown",
   "metadata": {},
   "source": [
    "it takes around 10 mins per page"
   ]
  },
  {
   "cell_type": "code",
   "execution_count": 4,
   "metadata": {},
   "outputs": [
    {
     "name": "stdout",
     "output_type": "stream",
     "text": [
      "lo intento\n",
      "element: 1 page:\n",
      "element: 2 page:\n",
      "element: 3 page:\n",
      "element: 4 page:\n",
      "element: 5 page:\n",
      "element: 6 page:\n",
      "element: 7 page:\n",
      "element: 8 page:\n",
      "element: 9 page:\n",
      "element: 10 page:\n",
      "element: 11 page:\n",
      "element: 12 page:\n",
      "element: 13 page:\n",
      "element: 14 page:\n",
      "element: 15 page:\n",
      "element: 16 page:\n",
      "element: 17 page:\n",
      "element: 18 page:\n",
      "element: 19 page:\n",
      "element: 20 page:\n",
      "element: 21 page:\n",
      "element: 22 page:\n",
      "element: 23 page:\n",
      "element: 24 page:\n",
      "element: 25 page:\n",
      "element: 26 page:\n",
      "element: 27 page:\n",
      "element: 28 page:\n",
      "element: 29 page:\n",
      "element: 30 page:\n",
      "done with page x\n"
     ]
    }
   ],
   "source": [
    "scr.seleniumFotocasa(url, listings)"
   ]
  },
  {
   "cell_type": "code",
   "execution_count": 5,
   "metadata": {},
   "outputs": [],
   "source": [
    "with open(f'../data/dict_test.pickle', 'rb') as dict_test:\n",
    "    dict_test = pickle.load(dict_test)"
   ]
  },
  {
   "cell_type": "code",
   "execution_count": 6,
   "metadata": {},
   "outputs": [
    {
     "data": {
      "text/html": [
       "<div>\n",
       "<style scoped>\n",
       "    .dataframe tbody tr th:only-of-type {\n",
       "        vertical-align: middle;\n",
       "    }\n",
       "\n",
       "    .dataframe tbody tr th {\n",
       "        vertical-align: top;\n",
       "    }\n",
       "\n",
       "    .dataframe thead th {\n",
       "        text-align: right;\n",
       "    }\n",
       "</style>\n",
       "<table border=\"1\" class=\"dataframe\">\n",
       "  <thead>\n",
       "    <tr style=\"text-align: right;\">\n",
       "      <th></th>\n",
       "      <th>name</th>\n",
       "      <th>price</th>\n",
       "      <th>address</th>\n",
       "      <th>owner</th>\n",
       "      <th>url</th>\n",
       "    </tr>\n",
       "  </thead>\n",
       "  <tbody>\n",
       "    <tr>\n",
       "      <th>0</th>\n",
       "      <td>Piso con balcón en Barrio de Salamanca</td>\n",
       "      <td>7.500 € /mes</td>\n",
       "      <td>[ balcón en Barrio de Salamanca]</td>\n",
       "      <td>ALFEREZ REAL ESTATE</td>\n",
       "      <td>https://www.fotocasa.es/es/alquiler/vivienda/m...</td>\n",
       "    </tr>\n",
       "    <tr>\n",
       "      <th>1</th>\n",
       "      <td>Piso en C. Euterpe, 17_19, San Blas</td>\n",
       "      <td>1.350 € /mes</td>\n",
       "      <td>[]</td>\n",
       "      <td>INMO CRITERIA CAIXA</td>\n",
       "      <td>https://www.fotocasa.es/es/alquiler/vivienda/m...</td>\n",
       "    </tr>\n",
       "    <tr>\n",
       "      <th>2</th>\n",
       "      <td>Piso con terraza en General Alvarez de Castro,...</td>\n",
       "      <td>1.700 € /mes</td>\n",
       "      <td>[ terraza en General Alvarez de Castro, Chamberí]</td>\n",
       "      <td>Alquila Tu Hogar</td>\n",
       "      <td>https://www.fotocasa.es/es/alquiler/vivienda/m...</td>\n",
       "    </tr>\n",
       "    <tr>\n",
       "      <th>3</th>\n",
       "      <td>Piso con balcón en Calle de la Paz, Centro</td>\n",
       "      <td>1.700 € /mes</td>\n",
       "      <td>[ balcón en Calle de la Paz, Centro]</td>\n",
       "      <td>MODUS HOME REALTORS</td>\n",
       "      <td>https://www.fotocasa.es/es/alquiler/vivienda/m...</td>\n",
       "    </tr>\n",
       "    <tr>\n",
       "      <th>4</th>\n",
       "      <td>Piso con ascensor en Calle de José Gutiérrez M...</td>\n",
       "      <td>700 € /mes</td>\n",
       "      <td>[ ascensor en Calle de José Gutiérrez Maroto, ...</td>\n",
       "      <td>CLOUDS GESTION</td>\n",
       "      <td>https://www.fotocasa.es/es/alquiler/vivienda/m...</td>\n",
       "    </tr>\n",
       "    <tr>\n",
       "      <th>5</th>\n",
       "      <td>Estudio con ascensor en Hortaleza</td>\n",
       "      <td>895 € /mes</td>\n",
       "      <td>[ ascensor en Hortaleza]</td>\n",
       "      <td>TESTA RESIDENCIAL</td>\n",
       "      <td>https://www.fotocasa.es/es/alquiler/vivienda/m...</td>\n",
       "    </tr>\n",
       "    <tr>\n",
       "      <th>6</th>\n",
       "      <td>Piso con 1 baño en Cordobanes, San Blas</td>\n",
       "      <td>850 € /mes</td>\n",
       "      <td>[ 1 baño en Cordobanes, San Blas]</td>\n",
       "      <td>Alquila Tu Hogar</td>\n",
       "      <td>https://www.fotocasa.es/es/alquiler/vivienda/m...</td>\n",
       "    </tr>\n",
       "  </tbody>\n",
       "</table>\n",
       "</div>"
      ],
      "text/plain": [
       "                                                name         price  \\\n",
       "0             Piso con balcón en Barrio de Salamanca  7.500 € /mes   \n",
       "1                Piso en C. Euterpe, 17_19, San Blas  1.350 € /mes   \n",
       "2  Piso con terraza en General Alvarez de Castro,...  1.700 € /mes   \n",
       "3         Piso con balcón en Calle de la Paz, Centro  1.700 € /mes   \n",
       "4  Piso con ascensor en Calle de José Gutiérrez M...    700 € /mes   \n",
       "5                  Estudio con ascensor en Hortaleza    895 € /mes   \n",
       "6            Piso con 1 baño en Cordobanes, San Blas    850 € /mes   \n",
       "\n",
       "                                             address                owner  \\\n",
       "0                   [ balcón en Barrio de Salamanca]  ALFEREZ REAL ESTATE   \n",
       "1                                                 []  INMO CRITERIA CAIXA   \n",
       "2  [ terraza en General Alvarez de Castro, Chamberí]     Alquila Tu Hogar   \n",
       "3               [ balcón en Calle de la Paz, Centro]  MODUS HOME REALTORS   \n",
       "4  [ ascensor en Calle de José Gutiérrez Maroto, ...       CLOUDS GESTION   \n",
       "5                           [ ascensor en Hortaleza]    TESTA RESIDENCIAL   \n",
       "6                  [ 1 baño en Cordobanes, San Blas]     Alquila Tu Hogar   \n",
       "\n",
       "                                                 url  \n",
       "0  https://www.fotocasa.es/es/alquiler/vivienda/m...  \n",
       "1  https://www.fotocasa.es/es/alquiler/vivienda/m...  \n",
       "2  https://www.fotocasa.es/es/alquiler/vivienda/m...  \n",
       "3  https://www.fotocasa.es/es/alquiler/vivienda/m...  \n",
       "4  https://www.fotocasa.es/es/alquiler/vivienda/m...  \n",
       "5  https://www.fotocasa.es/es/alquiler/vivienda/m...  \n",
       "6  https://www.fotocasa.es/es/alquiler/vivienda/m...  "
      ]
     },
     "execution_count": 6,
     "metadata": {},
     "output_type": "execute_result"
    }
   ],
   "source": [
    "pd.DataFrame(dict_test)"
   ]
  }
 ],
 "metadata": {
  "kernelspec": {
   "display_name": "iron2",
   "language": "python",
   "name": "python3"
  },
  "language_info": {
   "codemirror_mode": {
    "name": "ipython",
    "version": 3
   },
   "file_extension": ".py",
   "mimetype": "text/x-python",
   "name": "python",
   "nbconvert_exporter": "python",
   "pygments_lexer": "ipython3",
   "version": "3.9.16"
  },
  "orig_nbformat": 4
 },
 "nbformat": 4,
 "nbformat_minor": 2
}
