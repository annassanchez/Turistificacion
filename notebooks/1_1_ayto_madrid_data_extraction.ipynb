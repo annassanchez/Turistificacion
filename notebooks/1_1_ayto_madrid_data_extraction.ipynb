{
 "cells": [
  {
   "cell_type": "code",
   "execution_count": 3,
   "metadata": {},
   "outputs": [],
   "source": [
    "import pandas as pd\n",
    "import requests\n",
    "import xmltodict\n",
    "import json\n",
    "pd.set_option('display.max_columns', None)\n",
    "import cidownloader\n",
    "\n",
    "import sys\n",
    "sys.path.append(\"../\")\n",
    "import src.supportExtract as se\n",
    "import warnings\n",
    "warnings.filterwarnings('ignore')"
   ]
  },
  {
   "attachments": {},
   "cell_type": "markdown",
   "metadata": {},
   "source": [
    "The data here extracted comes from Ayuntamiento de Madrid's [Open Data](https://datos.madrid.es/portal/site/egob).\n",
    "<br>This source stores multiple data related to the city of Madrid. In this case, we will get info on hotels and bars and restaurants."
   ]
  },
  {
   "cell_type": "code",
   "execution_count": null,
   "metadata": {},
   "outputs": [],
   "source": [
    "pd.read_csv('../data/grid.csv')"
   ]
  },
  {
   "attachments": {},
   "cell_type": "markdown",
   "metadata": {},
   "source": [
    "# hotels\n",
    "## input"
   ]
  },
  {
   "cell_type": "code",
   "execution_count": null,
   "metadata": {},
   "outputs": [],
   "source": [
    "df_hotels = se.extractHotels()\n",
    "print(df_hotels.shape)\n",
    "df_hotels.head()"
   ]
  },
  {
   "attachments": {},
   "cell_type": "markdown",
   "metadata": {},
   "source": [
    "# censo de locales"
   ]
  },
  {
   "cell_type": "code",
   "execution_count": null,
   "metadata": {},
   "outputs": [],
   "source": [
    "df_actividades, df_local, df_terrazas, df_licencia = se.censoLocalesTerrazas(year = '2023', month = '03')"
   ]
  },
  {
   "cell_type": "code",
   "execution_count": null,
   "metadata": {},
   "outputs": [],
   "source": [
    "print(df_actividades.shape)\n",
    "df_actividades.head()"
   ]
  },
  {
   "cell_type": "code",
   "execution_count": null,
   "metadata": {},
   "outputs": [],
   "source": [
    "print(df_local.shape)\n",
    "df_local.head()"
   ]
  },
  {
   "cell_type": "code",
   "execution_count": null,
   "metadata": {},
   "outputs": [],
   "source": [
    "print(df_terrazas.shape)\n",
    "df_terrazas.head()"
   ]
  },
  {
   "cell_type": "code",
   "execution_count": null,
   "metadata": {},
   "outputs": [],
   "source": [
    "print(df_licencia.shape)\n",
    "df_licencia.head()"
   ]
  },
  {
   "attachments": {},
   "cell_type": "markdown",
   "metadata": {},
   "source": [
    "# catastro"
   ]
  },
  {
   "cell_type": "code",
   "execution_count": 6,
   "metadata": {},
   "outputs": [
    {
     "name": "stdout",
     "output_type": "stream",
     "text": [
      "Usage: cidownloader [OPTIONS]\n",
      "\n",
      "  Catastro Inspire Downloader.\n",
      "\n",
      "  Utilidad que permite descargar cartografía del servicio inspire de la\n",
      "  Dirección General de Catastro.\n",
      "\n",
      "  Genera un fichero GeoPackage.\n",
      "\n",
      "Options:\n",
      "  -p, --provincia INTEGER         Código Gerencia Catastro. Si no se indica\n",
      "                                  descarga todas las provincias.\n",
      "  -m, --municipio INTEGER         Código Municipio Catastro. Si no se indica\n",
      "                                  descarga todos los municipios.\n",
      "  --srs INTEGER                   Código EPSG final. Si no se indica, se\n",
      "                                  mantendrá el de origen.\n",
      "  --tipo [all|parcels|buildings|addresses]\n",
      "                                  Tipo Cartografía a descargar.\n",
      "  --filename TEXT                 Nombre Geopackage\n",
      "  -s, --separar_salida            Separar salida a un GeoPackage por Provincia\n",
      "  --version                       Show the version and exit.\n",
      "  --help                          Show this message and exit.\n"
     ]
    }
   ],
   "source": [
    "!cidownloader --help"
   ]
  },
  {
   "cell_type": "code",
   "execution_count": 9,
   "metadata": {},
   "outputs": [
    {
     "name": "stdout",
     "output_type": "stream",
     "text": [
      "Comenzando descarga de parcels:\n",
      "Territorial office 28 Madrid\n",
      "[1/1][1/1] Downloading http://www.catastro.minhap.es/INSPIRE/CadastralParcels/28/28900-MADRID/A.ES.SDGC.CP.28900.zip\n",
      "Comenzando descarga de buildings:\n",
      "Territorial office 28 Madrid\n",
      "[1/1][1/1] Downloading http://www.catastro.minhap.es/INSPIRE/Buildings/28/28900-MADRID/A.ES.SDGC.BU.28900.zip\n",
      "Comenzando descarga de addresses:\n",
      "Territorial office 28 Madrid\n",
      "[1/1][1/1] Downloading http://www.catastro.minhap.es/INSPIRE/Addresses/28/28900-MADRID/A.ES.SDGC.AD.28900.zip\n"
     ]
    }
   ],
   "source": [
    "!cidownloader -p 28 -m 900 --srs 25829 --tipo all --filename catastro_madrid"
   ]
  }
 ],
 "metadata": {
  "kernelspec": {
   "display_name": "iron2",
   "language": "python",
   "name": "python3"
  },
  "language_info": {
   "codemirror_mode": {
    "name": "ipython",
    "version": 3
   },
   "file_extension": ".py",
   "mimetype": "text/x-python",
   "name": "python",
   "nbconvert_exporter": "python",
   "pygments_lexer": "ipython3",
   "version": "3.9.16"
  },
  "orig_nbformat": 4
 },
 "nbformat": 4,
 "nbformat_minor": 2
}
