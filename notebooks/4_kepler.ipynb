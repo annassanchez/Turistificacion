{
 "cells": [
  {
   "cell_type": "code",
   "execution_count": 4,
   "metadata": {},
   "outputs": [],
   "source": [
    "import pandas as pd\n",
    "import pickle\n",
    "from keplergl import KeplerGl\n",
    "import geopandas as gpd"
   ]
  },
  {
   "attachments": {},
   "cell_type": "markdown",
   "metadata": {},
   "source": [
    "# setting up the base maps"
   ]
  },
  {
   "cell_type": "code",
   "execution_count": null,
   "metadata": {},
   "outputs": [],
   "source": [
    "# the variable form the dataframe to export the map\n",
    "variable = 'stock_airbnb'\n",
    "year = 2017\n",
    "first_map = variable + '_' + str(year)"
   ]
  },
  {
   "cell_type": "code",
   "execution_count": null,
   "metadata": {},
   "outputs": [],
   "source": [
    "# Load an empty map\n",
    "\n",
    "with open(f'../output/maps/grid_fiesta_{year}.geojson', 'r') as f:\n",
    "    geojson1 = f.read()\n",
    "\n",
    "map_1 = KeplerGl(height=400, data={f'{first_map}': geojson1},)\n",
    "                #config=config)\n",
    "map_1"
   ]
  },
  {
   "cell_type": "code",
   "execution_count": null,
   "metadata": {},
   "outputs": [],
   "source": [
    "config = map_1.config"
   ]
  },
  {
   "cell_type": "code",
   "execution_count": null,
   "metadata": {},
   "outputs": [],
   "source": [
    "map_1.save_to_html(file_name=f'../streamlit/html/{first_map}.html')"
   ]
  },
  {
   "cell_type": "code",
   "execution_count": null,
   "metadata": {},
   "outputs": [],
   "source": [
    "with open(f'../streamlit/config/{first_map}.pickle', 'wb') as f:\n",
    "    pickle.dump(map_1.config, f)"
   ]
  },
  {
   "attachments": {},
   "cell_type": "markdown",
   "metadata": {},
   "source": [
    "# setting up the main map"
   ]
  },
  {
   "cell_type": "code",
   "execution_count": 2,
   "metadata": {},
   "outputs": [],
   "source": [
    "# the variable form the dataframe to export the map\n",
    "year = 2023"
   ]
  },
  {
   "cell_type": "code",
   "execution_count": 17,
   "metadata": {},
   "outputs": [],
   "source": [
    "with open(f'../output/maps/grid_{year}_.geojson', 'r') as f:\n",
    "    geojson_grid = f.read()"
   ]
  },
  {
   "cell_type": "code",
   "execution_count": null,
   "metadata": {},
   "outputs": [],
   "source": [
    "geojson_grid"
   ]
  },
  {
   "cell_type": "code",
   "execution_count": null,
   "metadata": {},
   "outputs": [],
   "source": [
    "geojson_grid = geojson_grid[['abnb_tot_offer', 'local200_n_prox_alcohol', 'local200_n_restaurants', 'local200_n_fiesta', 'local200_n_sex', 'tp_offers_tot', 'abnb_tot_price', 'cad_tot_hotels', 'cad_tot_houses', 'stock_airbnb']]"
   ]
  },
  {
   "cell_type": "code",
   "execution_count": 33,
   "metadata": {},
   "outputs": [],
   "source": [
    "gpd.read_file(f'../output/maps/grid_{year}.geojson')[['geometry', 'latitude', 'longitude', 'abnb_tot_offer', 'alcohol', 'abnb_tot_price']].to_file(f'../output/maps/grid_{year}_.geojson', driver='GeoJSON')  "
   ]
  },
  {
   "cell_type": "code",
   "execution_count": 34,
   "metadata": {},
   "outputs": [],
   "source": [
    "# the variable form the dataframe to export the map\n",
    "variable = 'alcohol_airbnb_offer'\n",
    "year = 2023\n",
    "first_map = variable + '_' + str(year)"
   ]
  },
  {
   "cell_type": "code",
   "execution_count": 35,
   "metadata": {},
   "outputs": [
    {
     "name": "stdout",
     "output_type": "stream",
     "text": [
      "User Guide: https://docs.kepler.gl/docs/keplergl-jupyter\n"
     ]
    },
    {
     "data": {
      "application/vnd.jupyter.widget-view+json": {
       "model_id": "7f9e04b0aa3041859c90dea567bc0b94",
       "version_major": 2,
       "version_minor": 0
      },
      "text/plain": [
       "KeplerGl(data={'grid_2023': '{\\n\"type\": \"FeatureCollection\",\\n\"crs\": { \"type\": \"name\", \"properties\": { \"name\":…"
      ]
     },
     "metadata": {},
     "output_type": "display_data"
    }
   ],
   "source": [
    "map_2 = KeplerGl(height=400, data={f'grid_2023': geojson_grid})\n",
    "map_2"
   ]
  },
  {
   "cell_type": "code",
   "execution_count": 39,
   "metadata": {},
   "outputs": [
    {
     "data": {
      "text/plain": [
       "dict"
      ]
     },
     "execution_count": 39,
     "metadata": {},
     "output_type": "execute_result"
    }
   ],
   "source": [
    "type(map_2.config)"
   ]
  },
  {
   "cell_type": "code",
   "execution_count": 40,
   "metadata": {},
   "outputs": [
    {
     "name": "stdout",
     "output_type": "stream",
     "text": [
      "Map saved to ../streamlit/html/alcohol_airbnb_offer_2023.html!\n"
     ]
    }
   ],
   "source": [
    "map_2.save_to_html(file_name=f'../streamlit/html/{first_map}.html')"
   ]
  },
  {
   "cell_type": "code",
   "execution_count": 41,
   "metadata": {},
   "outputs": [],
   "source": [
    "with open(f'../streamlit/config/{first_map}.pickle', 'wb') as f:\n",
    "    pickle.dump(map_2.config, f)"
   ]
  },
  {
   "cell_type": "code",
   "execution_count": 30,
   "metadata": {},
   "outputs": [],
   "source": [
    "with open(f'../streamlit/config/alcohol_airbnb_offer_2023.pickle', 'rb') as configuration:\n",
    "    config2 = pickle.load(configuration)"
   ]
  },
  {
   "cell_type": "code",
   "execution_count": 32,
   "metadata": {},
   "outputs": [
    {
     "data": {
      "text/plain": [
       "dict"
      ]
     },
     "execution_count": 32,
     "metadata": {},
     "output_type": "execute_result"
    }
   ],
   "source": [
    "type(config2)"
   ]
  }
 ],
 "metadata": {
  "kernelspec": {
   "display_name": "base",
   "language": "python",
   "name": "python3"
  },
  "language_info": {
   "codemirror_mode": {
    "name": "ipython",
    "version": 3
   },
   "file_extension": ".py",
   "mimetype": "text/x-python",
   "name": "python",
   "nbconvert_exporter": "python",
   "pygments_lexer": "ipython3",
   "version": "3.11.3"
  },
  "orig_nbformat": 4
 },
 "nbformat": 4,
 "nbformat_minor": 2
}
